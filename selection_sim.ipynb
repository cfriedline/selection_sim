{
 "metadata": {
  "name": "",
  "signature": "sha256:cc7f842eaab59728609bfed313514e71960f63cca23d20f84d0bf8f3c79ca1c6"
 },
 "nbformat": 3,
 "nbformat_minor": 0,
 "worksheets": [
  {
   "cells": [
    {
     "cell_type": "code",
     "collapsed": false,
     "input": [
      "from ete2 import Tree\n",
      "import dendropy\n",
      "import numpy as np\n",
      "import pandas as pd\n",
      "import rpy2.robjects as robjects\n",
      "from IPython.display import FileLink\n",
      "from fabric.api import local, hide, run, settings, env\n",
      "from IPython.parallel import Client\n",
      "import sqlite3\n",
      "import base64\n",
      "import os, sys"
     ],
     "language": "python",
     "metadata": {},
     "outputs": [],
     "prompt_number": ""
    },
    {
     "cell_type": "code",
     "collapsed": false,
     "input": [
      "r = robjects.r\n",
      "%load_ext rpy2.ipython"
     ],
     "language": "python",
     "metadata": {},
     "outputs": [],
     "prompt_number": ""
    },
    {
     "cell_type": "code",
     "collapsed": false,
     "input": [
      "%%R\n",
      "library(ape)"
     ],
     "language": "python",
     "metadata": {},
     "outputs": [],
     "prompt_number": ""
    },
    {
     "cell_type": "code",
     "collapsed": false,
     "input": [
      "def print_tree(t):\n",
      "    print t.as_ascii_plot(display_width=15, show_internal_node_labels=True, plot_metric=\"length\")"
     ],
     "language": "python",
     "metadata": {},
     "outputs": [],
     "prompt_number": ""
    },
    {
     "cell_type": "code",
     "collapsed": false,
     "input": [
      "def convert_to_dendropy(ete_tree):\n",
      "    return dendropy.Tree.get_from_string(ete_tree.write(), \"newick\")"
     ],
     "language": "python",
     "metadata": {},
     "outputs": [],
     "prompt_number": ""
    },
    {
     "cell_type": "code",
     "collapsed": false,
     "input": [
      "t1 = \"((t1,t2),(t3,t4),t5);\"\n",
      "t2 = \"((((t1,t2),t3),t4),t5);\""
     ],
     "language": "python",
     "metadata": {},
     "outputs": [],
     "prompt_number": ""
    },
    {
     "cell_type": "code",
     "collapsed": false,
     "input": [
      "tree1 = Tree(t1,format=0)\n",
      "tree2 = Tree(t2,format=0)\n",
      "trees = [tree1, tree2]"
     ],
     "language": "python",
     "metadata": {},
     "outputs": [],
     "prompt_number": ""
    },
    {
     "cell_type": "code",
     "collapsed": false,
     "input": [
      "shapes = {\"balanced\":tree1, \"unbalanced\":tree2}\n",
      "divergence_times = [0.5, 1.0, 5.0] #4 Nm\n",
      "thetas = [1,5] # 4Neu\n",
      "gene_flow_time = 0.1\n",
      "num_loci = [5, 50, 100, 500]\n",
      "selection_coeffs = [0, 2, 100] # 2Nes\n",
      "num_samples = 10 # per species\n",
      "num_species = 5\n",
      "num_replicates = 1000\n"
     ],
     "language": "python",
     "metadata": {},
     "outputs": [],
     "prompt_number": ""
    },
    {
     "cell_type": "code",
     "collapsed": false,
     "input": [
      "def decorate_nodes(t):\n",
      "    nodes = range(5)\n",
      "    root = t.get_common_ancestor(t.get_leaves())\n",
      "    root.name = \"n%d\" % nodes.pop()\n",
      "    for node in t.iter_descendants(\"levelorder\"):\n",
      "        if not node.is_leaf():\n",
      "            node.name = \"n%d\" % nodes.pop()\n",
      "            \n",
      "            \n",
      "def get_tip_distance(node):\n",
      "    return max(node.get_distance(x) for x in node.get_children())\n",
      "\n",
      "def get_internal_descendent_brlen(node):\n",
      "    brlen = [node.get_distance(x) for x in node.get_children() if not x.is_leaf()]\n",
      "    if len(brlen) == 0:\n",
      "        brlen = [node.get_distance(x) for x in node.get_children()]\n",
      "    return brlen[0]\n",
      "            \n",
      "def compute_em(t, d):\n",
      "    ems = []\n",
      "    internal_nodes = []\n",
      "    for node in t.traverse():\n",
      "        if not node.is_leaf():\n",
      "            internal_nodes.append(node)\n",
      "    internal_nodes = sorted(internal_nodes, key=lambda node: node.get_distance(t.get_tree_root()))\n",
      "    while len(internal_nodes) > 0:\n",
      "        node = internal_nodes.pop()\n",
      "        tip_distance = get_tip_distance(node)\n",
      "        internal_descendent_brlen = get_internal_descendent_brlen(node)\n",
      "        gene_flow = tip_distance - (gene_flow_time * internal_descendent_brlen)\n",
      "        \n",
      "        children = []\n",
      "        for child in sorted(node.get_children(), key=lambda x: x.name, reverse=True):\n",
      "            if not 'coal_name' in node.features:\n",
      "                if not 'coal_name' in child.features:\n",
      "                    node.add_feature('coal_name', child.name[-1])\n",
      "                else:\n",
      "                    node.add_feature('coal_name', child.coal_name[-1])\n",
      "            \n",
      "            if child.is_leaf():\n",
      "                children.append(child.name[-1])\n",
      "            else:\n",
      "                children.append(child.coal_name[-1])\n",
      "        ems.append(\"-em %g %s %g\" % (gene_flow, ' '.join(children), d))\n",
      "        ems.append(\"-em %g %s %g\" % (gene_flow, ' '.join(list(reversed(children))), d))\n",
      "        ems.append(\"-ej %g %s\" % (tip_distance, ' '.join(list(reversed(children)))))\n",
      "        \n",
      "    return ems\n",
      "\n",
      "ems = {}\n",
      "\n",
      "with open(\"trees.txt\", \"w\") as o:\n",
      "    for tree in sorted(shapes):\n",
      "        ems[tree] = {}\n",
      "        t = shapes[tree]\n",
      "        for d in divergence_times:\n",
      "            t = shapes[tree]\n",
      "            t.set_outgroup(\"t5\")\n",
      "            t.convert_to_ultrametric(d)\n",
      "            t.dist = 0\n",
      "            print \"%s: 4Nm=%.1f\" % (tree, d)\n",
      "            decorate_nodes(t)\n",
      "            print t.get_ascii(show_internal=True, attributes=[\"dist\",\"name\"])\n",
      "            o.write(\"%s\\n\" % t.get_ascii(show_internal=True, attributes=[\"dist\",\"name\"]))\n",
      "            ems[tree][d] = {}\n",
      "            ems[tree][d]['newick'] = t.write()\n",
      "            ems[tree][d]['em'] = compute_em(t,d)            \n",
      "            print ems[tree][d]\n",
      "            o.write(\"%s\\n\" % ems[tree][d]['em'])\n",
      "            print \"\".join([\"-\"]*50)\n",
      "            o.write(\"%s\\n\" % \"\".join([\"-\"]*50))"
     ],
     "language": "python",
     "metadata": {},
     "outputs": [],
     "prompt_number": ""
    },
    {
     "cell_type": "code",
     "collapsed": false,
     "input": [
      "FileLink(\"trees.txt\")"
     ],
     "language": "python",
     "metadata": {},
     "outputs": [],
     "prompt_number": ""
    },
    {
     "cell_type": "code",
     "collapsed": false,
     "input": [
      "def get_ms_cmd(ms, ems, shape, tree, dt, theta, nl, num_species, num_samples):\n",
      "    cmd = [ms, \n",
      "           num_species * num_samples, \n",
      "           nl, \n",
      "           \"-t\", \n",
      "           theta,\n",
      "           \"-T\",\n",
      "           \"-I\",\n",
      "           num_species,\n",
      "           ' '.join([str(x) for x in [num_samples]*num_species]),\n",
      "           ]\n",
      "    cmd.append(' '.join(ems[shape][dt]['em']))\n",
      "    return ' '.join([str(x) for x in cmd])\n",
      "\n",
      "ms = \"/Users/chris/Downloads/msdir/ms\"\n",
      "ms_cmds = {}\n",
      "for shape, tree in shapes.items():\n",
      "    ms_cmds[shape] = {}\n",
      "    for dt in sorted(divergence_times):\n",
      "        ms_cmds[shape][dt] = {}\n",
      "        for theta in thetas:\n",
      "            ms_cmds[shape][dt][theta] = {}\n",
      "            for loci in num_loci:\n",
      "                ms_cmds[shape][dt][theta][loci] = {}\n",
      "                for i in xrange(num_replicates):\n",
      "                    cmd = get_ms_cmd(ms,\n",
      "                                     ems,\n",
      "                                     shape, \n",
      "                                     tree, \n",
      "                                     dt, \n",
      "                                     theta,  \n",
      "                                     loci, \n",
      "                                     num_species, \n",
      "                                     num_samples)\n",
      "                    ms_cmds[shape][dt][theta][loci][i] = cmd"
     ],
     "language": "python",
     "metadata": {},
     "outputs": [],
     "prompt_number": ""
    },
    {
     "cell_type": "code",
     "collapsed": false,
     "input": [
      "def get_ms_tree(stdout):\n",
      "    return stdout.split(\"\\n\")[4]"
     ],
     "language": "python",
     "metadata": {},
     "outputs": [],
     "prompt_number": ""
    },
    {
     "cell_type": "code",
     "collapsed": false,
     "input": [
      "def add_to_dict(data, key_list, val):\n",
      "    current = data\n",
      "    for key in key_list[0:-1]:\n",
      "        if not key in current:\n",
      "            current[key] = {}\n",
      "            current = current[key]\n",
      "        else:\n",
      "            current = current[key]\n",
      "    current[key_list[-1]] = val"
     ],
     "language": "python",
     "metadata": {},
     "outputs": [],
     "prompt_number": ""
    },
    {
     "cell_type": "code",
     "collapsed": false,
     "input": [
      "rc = Client()\n",
      "dview = rc[:]\n",
      "lview = rc.load_balanced_view()\n",
      "len(rc)"
     ],
     "language": "python",
     "metadata": {},
     "outputs": [],
     "prompt_number": ""
    },
    {
     "cell_type": "code",
     "collapsed": false,
     "input": [
      "dview['get_ms_tree'] = get_ms_tree\n",
      "with dview.sync_imports():\n",
      "    from fabric.api import hide, local, settings\n",
      "    from dendropy.interop import seqgen\n",
      "    from ete2 import Tree\n",
      "    import dendropy\n",
      "    import numpy"
     ],
     "language": "python",
     "metadata": {},
     "outputs": [],
     "prompt_number": ""
    },
    {
     "cell_type": "code",
     "collapsed": true,
     "input": [
      "@lview.remote()\n",
      "def exec_cmd(cmd):\n",
      "    with hide('output','running','warnings'), settings(warn_only=True):\n",
      "        return get_ms_tree(local(cmd, capture=True).stdout)\n",
      "\n",
      "results = []\n",
      "submitted = 0\n",
      "commands = {}\n",
      "for shape, dts in ms_cmds.items():\n",
      "    for dt, thetas in dts.items():\n",
      "        for theta, loci in thetas.items():\n",
      "            for num_loci, repls in loci.items():\n",
      "                for repl, cmd in repls.items():\n",
      "                    keys = [shape, dt, theta, num_loci, repl]\n",
      "                    results.append([keys, exec_cmd(cmd)])\n",
      "                    commands[str(keys[0:-1])] = cmd\n",
      "                    submitted += 1\n",
      "                    if submitted % 1000 == 0:\n",
      "                        print \"submitted %d jobs\" % submitted"
     ],
     "language": "python",
     "metadata": {},
     "outputs": [],
     "prompt_number": ""
    },
    {
     "cell_type": "markdown",
     "metadata": {},
     "source": [
      "## Store values in database"
     ]
    },
    {
     "cell_type": "code",
     "collapsed": false,
     "input": [
      "conn = sqlite3.connect(\"ms.sqlite\")\n",
      "conn.row_factory = sqlite3.Row"
     ],
     "language": "python",
     "metadata": {},
     "outputs": [],
     "prompt_number": ""
    },
    {
     "cell_type": "code",
     "collapsed": false,
     "input": [
      "conn.execute(\"drop table if exists species_tree\")\n",
      "cur = conn.execute('''\n",
      "create table species_tree\n",
      "(shape text not null,\n",
      "divergence_time real not null,\n",
      "newick blob not null,\n",
      "em text not null,\n",
      "primary key (shape, divergence_time));''')\n",
      "cur.close()"
     ],
     "language": "python",
     "metadata": {},
     "outputs": [],
     "prompt_number": ""
    },
    {
     "cell_type": "code",
     "collapsed": false,
     "input": [
      "cur = conn.execute(\"drop table if exists settings\")\n",
      "cur = conn.execute('''\n",
      "create table settings \n",
      "(id int primary key not null, \n",
      "shape text not null,\n",
      "divergence_time real not null,\n",
      "theta real not null,\n",
      "num_loci int not null,\n",
      "selection_coeff real not null,\n",
      "cmd text);''')\n",
      "cur.close()"
     ],
     "language": "python",
     "metadata": {},
     "outputs": [],
     "prompt_number": ""
    },
    {
     "cell_type": "code",
     "collapsed": false,
     "input": [
      "cur = conn.execute(\"drop table if exists gene_tree\")\n",
      "cur = conn.execute('''\n",
      "create table gene_tree \n",
      "(settings_id int not null,\n",
      "num int not null,\n",
      "tree blob not null,\n",
      "primary key (settings_id, num)\n",
      "foreign key(settings_id) references settings(id));''')\n",
      "cur.close()"
     ],
     "language": "python",
     "metadata": {},
     "outputs": [],
     "prompt_number": ""
    },
    {
     "cell_type": "code",
     "collapsed": false,
     "input": [
      "cur = conn.execute(\"drop table if exists alignment\")\n",
      "cur = conn.execute('''\n",
      "create table alignment \n",
      "(gene_tree_settings_id int not null,\n",
      "gene_tree_num int not null,\n",
      "alignment_num int not null,\n",
      "ti_tv real not null,\n",
      "state_freqs text not null,\n",
      "seq_len int not null,\n",
      "nexus blob not null,\n",
      "foreign key(gene_tree_settings_id) references gene_tree(settings_id),\n",
      "foreign key(gene_tree_num) references gene_tree(num),\n",
      "primary key(gene_tree_settings_id, gene_tree_num, alignment_num));''')\n",
      "cur.close()"
     ],
     "language": "python",
     "metadata": {},
     "outputs": [],
     "prompt_number": ""
    },
    {
     "cell_type": "code",
     "collapsed": false,
     "input": [
      "cur = conn.execute(\"drop view if exists v_settings_tree\")\n",
      "cur = conn.execute('''\n",
      "CREATE VIEW \"v_settings_tree\" AS select shape, \n",
      "             divergence_time,\n",
      "             theta,\n",
      "             num_loci,\n",
      "             num,\n",
      "             tree\n",
      "             from \n",
      "             settings\n",
      "             inner join\n",
      "             gene_tree \n",
      "             on\n",
      "             settings.id == gene_tree.settings_id;\n",
      "''')\n",
      "cur.close()"
     ],
     "language": "python",
     "metadata": {},
     "outputs": [],
     "prompt_number": ""
    },
    {
     "cell_type": "code",
     "collapsed": false,
     "input": [
      "for shape, dts in ems.items():\n",
      "    for dt, data in dts.items():\n",
      "        cmd = \"insert into species_tree values (?, ?, ?, ?)\"\n",
      "        conn.execute(cmd, [shape, dt, data['newick'], ' '.join(data['em'])])\n",
      "        conn.commit()"
     ],
     "language": "python",
     "metadata": {},
     "outputs": [],
     "prompt_number": ""
    },
    {
     "cell_type": "code",
     "collapsed": false,
     "input": [
      "def encode(s):\n",
      "    if isinstance(s, list):\n",
      "        s = str(s)\n",
      "    return base64.b64encode(s)    \n",
      "\n",
      "for i, result in enumerate(results):\n",
      "    key = result[0][0:-1] #do not include replicate\n",
      "    repl = result[0][-1]\n",
      "    key.append(0) #add selection coeffiencent of 0 for no selection\n",
      "    e = encode(key)\n",
      "    cmd = \"select * from settings where id = ?\"\n",
      "    curr = conn.execute(cmd, (e,))\n",
      "    settings = curr.fetchone()\n",
      "    curr.close()\n",
      "    settings_id = e\n",
      "    cmd_key = str(key[0:-1])\n",
      "    if not settings:\n",
      "        cmd = \"insert into settings values (?, ?, ?, ?, ?, ?, ?)\"\n",
      "        values = [e]\n",
      "        values.extend(key)\n",
      "        values.append(commands[cmd_key]) #the command string for ms\n",
      "        conn.execute(cmd, values)\n",
      "        conn.commit()\n",
      "    tree = result[1].r\n",
      "    cmd = \"insert into gene_tree values (?, ?, ?)\"\n",
      "    conn.execute(cmd, [e, repl, tree])\n",
      "    if i % 10000 == 0:\n",
      "        print \"at %d\" % i\n",
      "        conn.commit()\n",
      "conn.commit()"
     ],
     "language": "python",
     "metadata": {},
     "outputs": [],
     "prompt_number": ""
    },
    {
     "cell_type": "code",
     "collapsed": false,
     "input": [
      "cur = conn.execute(\"select * from v_settings_tree;\")\n",
      "header = [x[0] for x in cur.description]\n",
      "with open(\"results.txt\", \"w\") as o:\n",
      "    o.write(\"%s\\n\" % \"\\t\".join(header))\n",
      "    for r in cur.fetchall():\n",
      "        o.write(\"%s\\n\" % \"\\t\".join([str(x) for x in r]))\n",
      "cur.close()"
     ],
     "language": "python",
     "metadata": {},
     "outputs": [],
     "prompt_number": ""
    },
    {
     "cell_type": "code",
     "collapsed": false,
     "input": [
      "FileLink(\"results.txt\")"
     ],
     "language": "python",
     "metadata": {},
     "outputs": [],
     "prompt_number": ""
    },
    {
     "cell_type": "code",
     "collapsed": false,
     "input": [
      "def generate_seqs(tree_string):\n",
      "    tree = dendropy.Tree.get_from_string(t.write(), \"newick\")\n",
      "    s = seqgen.SeqGen()\n",
      "    s.seqgen_path = \"/Users/chris/src/Seq-Gen.v1.3.3/source/seq-gen\"\n",
      "    s.char_model = seqgen.SeqGen.HKY\n",
      "    s.gamma_shape = 0.2\n",
      "    s.ti_tv = 3.0\n",
      "    s.state_freqs = [0.3,0.2,0.3,0.2]\n",
      "    s.seq_len = 500\n",
      "    d = s.generate(tree)\n",
      "    nex = d.as_string(\"nexus\")\n",
      "    return s.ti_tv, str(s.state_freqs), s.seq_len, nex"
     ],
     "language": "python",
     "metadata": {},
     "outputs": [],
     "prompt_number": ""
    },
    {
     "cell_type": "code",
     "collapsed": false,
     "input": [
      "def get_species(gene_id):\n",
      "    gene_id = int(gene_id)\n",
      "    if gene_id <= 10:\n",
      "        return \"t1\"\n",
      "    elif gene_id <= 20:\n",
      "        return \"t2\"\n",
      "    elif gene_id <= 30:\n",
      "        return \"t3\"\n",
      "    elif gene_id <= 40:\n",
      "        return \"t4\"\n",
      "    else:\n",
      "        return \"t5\"\n",
      "dview['get_species'] = get_species\n",
      "\n",
      "\n",
      "num_gene_trees = conn.execute(\"select count(*) from gene_tree;\").fetchone()[0]\n",
      "num_alignments = 10\n",
      "seq_jobs = np.empty(num_gene_trees*num_alignments, dtype=str)\n",
      "tree_id = 0\n",
      "for row in conn.execute(\"select * from gene_tree\"):\n",
      "    t = Tree(row['tree'])\n",
      "    for leaf in t.get_leaves():\n",
      "        leaf.name = \"%s-%s\" % (get_species(leaf.name), leaf.name)\n",
      "    tree_string = t.write()\n",
      "    for i in xrange(10):\n",
      "        seq_jobs[tree_id] = tree_string\n",
      "        tree_id += 1\n",
      "#         cmd = \"insert into alignment values (?,?,?,?,?,?,?)\"\n",
      "#         conn.execute(cmd, [row['settings_id'], \n",
      "#                            row['num'], \n",
      "#                            i, \n",
      "#                            ti_tv, \n",
      "#                            state_freqs, \n",
      "#                            seq_len,\n",
      "#                            nex])\n",
      "#     conn.commit()\n",
      "    if tree_id % 10000 == 0:\n",
      "        print \"at %d\" % tree_id"
     ],
     "language": "python",
     "metadata": {},
     "outputs": [],
     "prompt_number": ""
    },
    {
     "cell_type": "code",
     "collapsed": false,
     "input": [
      "dview['generate_seqs'] = generate_seqs\n",
      "seq_results = lview.map_async(generate_seqs, seq_jobs)"
     ],
     "language": "python",
     "metadata": {},
     "outputs": [],
     "prompt_number": ""
    },
    {
     "cell_type": "code",
     "collapsed": false,
     "input": [
      "for s in seq_results:\n",
      "    print s.r"
     ],
     "language": "python",
     "metadata": {},
     "outputs": [],
     "prompt_number": ""
    },
    {
     "cell_type": "code",
     "collapsed": false,
     "input": [],
     "language": "python",
     "metadata": {},
     "outputs": []
    }
   ],
   "metadata": {}
  }
 ]
}